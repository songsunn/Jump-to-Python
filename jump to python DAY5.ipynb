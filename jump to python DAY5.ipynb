{
 "cells": [
  {
   "cell_type": "markdown",
   "metadata": {},
   "source": [
    "# if 조건문"
   ]
  },
  {
   "cell_type": "code",
   "execution_count": 1,
   "metadata": {},
   "outputs": [
    {
     "name": "stdout",
     "output_type": "stream",
     "text": [
      "걸어 가라\n"
     ]
    }
   ],
   "source": [
    "money=2000\n",
    "if money>=3000:\n",
    "    print(\"택시를 타고 가라\")\n",
    "else:\n",
    "    print(\"걸어 가라\")"
   ]
  },
  {
   "cell_type": "markdown",
   "metadata": {},
   "source": [
    "* not x -> x가 거짓이면 참이다"
   ]
  },
  {
   "cell_type": "markdown",
   "metadata": {},
   "source": [
    "## x in s / x not in s"
   ]
  },
  {
   "cell_type": "code",
   "execution_count": 3,
   "metadata": {},
   "outputs": [
    {
     "data": {
      "text/plain": [
       "True"
      ]
     },
     "execution_count": 3,
     "metadata": {},
     "output_type": "execute_result"
    }
   ],
   "source": [
    "1 in [1,2,3]"
   ]
  },
  {
   "cell_type": "code",
   "execution_count": 4,
   "metadata": {},
   "outputs": [
    {
     "data": {
      "text/plain": [
       "False"
      ]
     },
     "execution_count": 4,
     "metadata": {},
     "output_type": "execute_result"
    }
   ],
   "source": [
    "1 not in [1,2,3]"
   ]
  },
  {
   "cell_type": "markdown",
   "metadata": {},
   "source": [
    "* pass -> 아무런 일을 하지 않도록 설정하고 싶을 때"
   ]
  },
  {
   "cell_type": "markdown",
   "metadata": {},
   "source": [
    "## elif문\n",
    "\n",
    "* 개수에 제한 없이 사용 가능"
   ]
  },
  {
   "cell_type": "code",
   "execution_count": 6,
   "metadata": {},
   "outputs": [
    {
     "name": "stdout",
     "output_type": "stream",
     "text": [
      "택시를 타고 가라\n"
     ]
    }
   ],
   "source": [
    "pocket = ['paper','cellphone']\n",
    "card=True\n",
    "if 'money' in pocket:\n",
    "    print(\"택시를 타고 가라\")\n",
    "elif card:\n",
    "    print(\"택시를 타고 가라\")\n",
    "else:\n",
    "    print(\"걸어 가라\")"
   ]
  },
  {
   "cell_type": "markdown",
   "metadata": {},
   "source": [
    "## 조건부 표현식"
   ]
  },
  {
   "cell_type": "code",
   "execution_count": 14,
   "metadata": {},
   "outputs": [
    {
     "ename": "SyntaxError",
     "evalue": "invalid syntax (<ipython-input-14-a9304fb34958>, line 2)",
     "output_type": "error",
     "traceback": [
      "\u001b[1;36m  File \u001b[1;32m\"<ipython-input-14-a9304fb34958>\"\u001b[1;36m, line \u001b[1;32m2\u001b[0m\n\u001b[1;33m    message=\"success\" if score>=60 else \"failure\")\u001b[0m\n\u001b[1;37m                                                 ^\u001b[0m\n\u001b[1;31mSyntaxError\u001b[0m\u001b[1;31m:\u001b[0m invalid syntax\n"
     ]
    }
   ],
   "source": [
    "score=65\n",
    "message=\"success\" if score>=60 else \"failure\")"
   ]
  },
  {
   "cell_type": "markdown",
   "metadata": {},
   "source": [
    " # while문"
   ]
  },
  {
   "cell_type": "code",
   "execution_count": 15,
   "metadata": {},
   "outputs": [
    {
     "name": "stdout",
     "output_type": "stream",
     "text": [
      "나무를 1번 찍었습니다\n",
      "나무를 2번 찍었습니다\n",
      "나무를 3번 찍었습니다\n",
      "나무를 4번 찍었습니다\n",
      "나무를 5번 찍었습니다\n",
      "나무를 6번 찍었습니다\n",
      "나무를 7번 찍었습니다\n",
      "나무를 8번 찍었습니다\n",
      "나무를 9번 찍었습니다\n",
      "나무를 10번 찍었습니다\n",
      "나무 넘어갑니다.\n"
     ]
    }
   ],
   "source": [
    "treeHit=0\n",
    "while treeHit<10:\n",
    "    treeHit=treeHit+1\n",
    "    print(\"나무를 %d번 찍었습니다\" %treeHit)\n",
    "    if treeHit ==10:\n",
    "        print(\"나무 넘어갑니다.\")"
   ]
  },
  {
   "cell_type": "code",
   "execution_count": 16,
   "metadata": {},
   "outputs": [],
   "source": [
    "prompt=\"\"\"\n",
    "1.ADD\n",
    "2.DEL\n",
    "3.LIST\n",
    "4.QUIT\n",
    "\n",
    "Enter number:\"\"\""
   ]
  },
  {
   "cell_type": "code",
   "execution_count": 17,
   "metadata": {},
   "outputs": [
    {
     "name": "stdout",
     "output_type": "stream",
     "text": [
      "\n",
      "1.ADD\n",
      "2.DEL\n",
      "3.LIST\n",
      "4.QUIT\n",
      "\n",
      "Enter number:\n",
      "3\n",
      "\n",
      "1.ADD\n",
      "2.DEL\n",
      "3.LIST\n",
      "4.QUIT\n",
      "\n",
      "Enter number:\n",
      "4\n"
     ]
    }
   ],
   "source": [
    "number=0\n",
    "while number!=4:\n",
    "    print(prompt)\n",
    "    number=int(input())"
   ]
  },
  {
   "cell_type": "code",
   "execution_count": 18,
   "metadata": {},
   "outputs": [
    {
     "name": "stdout",
     "output_type": "stream",
     "text": [
      "돈을 받았으니 커피를 줍니다\n",
      "남은 커피의 양은 9개입니다\n",
      "돈을 받았으니 커피를 줍니다\n",
      "남은 커피의 양은 8개입니다\n",
      "돈을 받았으니 커피를 줍니다\n",
      "남은 커피의 양은 7개입니다\n",
      "돈을 받았으니 커피를 줍니다\n",
      "남은 커피의 양은 6개입니다\n",
      "돈을 받았으니 커피를 줍니다\n",
      "남은 커피의 양은 5개입니다\n",
      "돈을 받았으니 커피를 줍니다\n",
      "남은 커피의 양은 4개입니다\n",
      "돈을 받았으니 커피를 줍니다\n",
      "남은 커피의 양은 3개입니다\n",
      "돈을 받았으니 커피를 줍니다\n",
      "남은 커피의 양은 2개입니다\n",
      "돈을 받았으니 커피를 줍니다\n",
      "남은 커피의 양은 1개입니다\n",
      "돈을 받았으니 커피를 줍니다\n",
      "남은 커피의 양은 0개입니다\n",
      "커피가 다 떨어졌습니다.판매를 중지합니다.\n"
     ]
    }
   ],
   "source": [
    "coffee=10\n",
    "money=300\n",
    "while money:\n",
    "    print(\"돈을 받았으니 커피를 줍니다\")\n",
    "    coffee=coffee-1\n",
    "    print(\"남은 커피의 양은 %d개입니다\" %coffee)\n",
    "    if coffee==0:\n",
    "        print(\"커피가 다 떨어졌습니다.판매를 중지합니다.\")\n",
    "        break"
   ]
  },
  {
   "cell_type": "code",
   "execution_count": null,
   "metadata": {},
   "outputs": [],
   "source": [
    "coffee=10\n",
    "while True: #무한루프\n",
    "    money=int(input(\"돈을 넣어 주세요: \"))\n",
    "    if money==300:\n",
    "        print(\"커피를 줍니다.\")\n",
    "        coffee=coffee-1\n",
    "    elif money>300:\n",
    "        print(\"거스름돈 %d를 주고 커피를 줍니다.\" %(money-300)) \n",
    "        coffee=coffee-1\n",
    "    else:\n",
    "        print(\"돈을 다시 돌려주고 커피를 주지 않습니다.\" %coffee)\n",
    "        print(\"남은 커피의 양은 %d개입니다\") \n",
    "    if coffee==0:\n",
    "        print(\"커피가 다 떨어졌습니다. 판매를 중지합니다.\")\n",
    "        break"
   ]
  },
  {
   "cell_type": "code",
   "execution_count": null,
   "metadata": {},
   "outputs": [],
   "source": [
    "# while문을 빠져나가지 않고 while문의 맨 처음으로 다시 돌아가게 만들고 싶을 때\n",
    "# continue문"
   ]
  },
  {
   "cell_type": "code",
   "execution_count": null,
   "metadata": {},
   "outputs": [],
   "source": [
    "a=0\n",
    "while a<10:\n",
    "    a=a+1\n",
    "    if a%2==0:continue #a를 2로 나눴을 때 나머지가 0이면\n",
    "    print(a)"
   ]
  },
  {
   "cell_type": "markdown",
   "metadata": {},
   "source": [
    "# for문"
   ]
  },
  {
   "cell_type": "code",
   "execution_count": null,
   "metadata": {},
   "outputs": [],
   "source": [
    "test_list=['one','two','three']\n",
    "for i in test_list:\n",
    "    print(i)"
   ]
  },
  {
   "cell_type": "code",
   "execution_count": null,
   "metadata": {},
   "outputs": [],
   "source": [
    "# 리스트의 요솟값이 튜플인 경우\n",
    "\n",
    "a=[(1,2),(3,4),(5,6)]\n",
    "for (first,last) in a:\n",
    "    print(first+last)"
   ]
  },
  {
   "cell_type": "code",
   "execution_count": null,
   "metadata": {},
   "outputs": [],
   "source": [
    "marks=[90,25,67,45,80]\n",
    "number=0 #학생에게 붙여 줄 번호\n",
    "for i in marks:#marks안에 변수를 하나씩 대입\n",
    "    number=number+1\n",
    "    if i>=60:\n",
    "        print(\"%d번 학생은 합격입니다\" %number)\n",
    "    else:\n",
    "        print(\"%d번 학생은 불합격입니다\" %number)"
   ]
  },
  {
   "cell_type": "code",
   "execution_count": null,
   "metadata": {},
   "outputs": [],
   "source": [
    "# continue문 활용\n",
    "\n",
    "marks=[90,25,67,45,80]\n",
    "number=0\n",
    "for i in marks:\n",
    "    number=number+1\n",
    "    if i<60:continue\n",
    "    print(\"%d번 학생 축하합니다. 합격입니다.\" %number) # 합격한 학생들만 출력된다. "
   ]
  },
  {
   "cell_type": "code",
   "execution_count": null,
   "metadata": {},
   "outputs": [],
   "source": [
    "# range 함수 사용: 숫자 리스트를 자동으로 만들어준다.\n",
    "\n",
    "a=range(10) #0부터 10미만의 숫자를 포함하는 객체 만들어 준다.\n",
    "a"
   ]
  },
  {
   "cell_type": "code",
   "execution_count": null,
   "metadata": {},
   "outputs": [],
   "source": [
    "add=0\n",
    "for i in range(1,11):\n",
    "    add=add+i\n",
    "    \n",
    "print(add)"
   ]
  },
  {
   "cell_type": "code",
   "execution_count": null,
   "metadata": {},
   "outputs": [],
   "source": [
    "marks=[90,25,67,45,80]\n",
    "for number in range(len(marks)):\n",
    "    if marks[number]<60:continue\n",
    "    print(\"%d번 학생 축하합니다. 합격입니다\" %(number+1))"
   ]
  },
  {
   "cell_type": "code",
   "execution_count": null,
   "metadata": {},
   "outputs": [],
   "source": [
    "# 리스트 내포 사용하기\n",
    "# 짝수에만 3을 곱하여 담고 싶을 때\n",
    "\n",
    "a=[1,2,3,4]\n",
    "result=[num*3 for num in a if num%2==0]\n",
    "print(result)"
   ]
  },
  {
   "cell_type": "code",
   "execution_count": null,
   "metadata": {},
   "outputs": [],
   "source": [
    "# 구구단 만들기\n",
    "result=[x*y for x in range(2,10)\n",
    "    for y in range(1,10)]\n",
    "print(result)"
   ]
  }
 ],
 "metadata": {
  "kernelspec": {
   "display_name": "Python 3",
   "language": "python",
   "name": "python3"
  },
  "language_info": {
   "codemirror_mode": {
    "name": "ipython",
    "version": 3
   },
   "file_extension": ".py",
   "mimetype": "text/x-python",
   "name": "python",
   "nbconvert_exporter": "python",
   "pygments_lexer": "ipython3",
   "version": "3.6.5"
  },
  "toc": {
   "base_numbering": 1,
   "nav_menu": {},
   "number_sections": true,
   "sideBar": true,
   "skip_h1_title": false,
   "title_cell": "Table of Contents",
   "title_sidebar": "Contents",
   "toc_cell": false,
   "toc_position": {},
   "toc_section_display": true,
   "toc_window_display": false
  }
 },
 "nbformat": 4,
 "nbformat_minor": 2
}
