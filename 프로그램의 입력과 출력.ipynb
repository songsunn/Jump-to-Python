{
 "cells": [
  {
   "cell_type": "code",
   "execution_count": 2,
   "metadata": {},
   "outputs": [],
   "source": [
    "# 주어진 자연수가 홀수인지 짝수인지 판별해주는 함수 작성\n",
    "\n",
    "def is_odd(number):\n",
    "    if number % 2==1:\n",
    "        return True\n",
    "    else:\n",
    "        return False"
   ]
  },
  {
   "cell_type": "code",
   "execution_count": 10,
   "metadata": {},
   "outputs": [
    {
     "data": {
      "text/plain": [
       "1.5"
      ]
     },
     "execution_count": 10,
     "metadata": {},
     "output_type": "execute_result"
    }
   ],
   "source": [
    "# 입력으로 들어오는 모든 수의 평균 값을 계산해주는 함수\n",
    "\n",
    "def avg_numbers(*args):\n",
    "    result=0\n",
    "    for i in args:\n",
    "        result=result+i\n",
    "    return result/len(args)\n",
    "\n",
    "avg_numbers(1,2)"
   ]
  },
  {
   "cell_type": "code",
   "execution_count": 13,
   "metadata": {},
   "outputs": [
    {
     "name": "stdout",
     "output_type": "stream",
     "text": [
      "첫 번째 숫자를 입력하세요:3\n",
      "두 번째 숫자를 입력하세요:6\n",
      "두 수의 합은 36 입니다\n"
     ]
    }
   ],
   "source": [
    "input1=input(\"첫 번째 숫자를 입력하세요:\")\n",
    "input2=input(\"두 번째 숫자를 입력하세요:\")\n",
    "\n",
    "total=input1+input2\n",
    "print(\"두 수의 합은 %s 입니다\" % total)"
   ]
  }
 ],
 "metadata": {
  "kernelspec": {
   "display_name": "Python 3",
   "language": "python",
   "name": "python3"
  },
  "language_info": {
   "codemirror_mode": {
    "name": "ipython",
    "version": 3
   },
   "file_extension": ".py",
   "mimetype": "text/x-python",
   "name": "python",
   "nbconvert_exporter": "python",
   "pygments_lexer": "ipython3",
   "version": "3.6.10"
  }
 },
 "nbformat": 4,
 "nbformat_minor": 4
}
